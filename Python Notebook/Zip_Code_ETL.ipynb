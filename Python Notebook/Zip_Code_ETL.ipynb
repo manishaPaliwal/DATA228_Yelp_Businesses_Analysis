{
 "cells": [
  {
   "cell_type": "code",
   "execution_count": 23,
   "id": "a1d3eff4",
   "metadata": {},
   "outputs": [],
   "source": [
    "import pandas as pd\n"
   ]
  },
  {
   "cell_type": "code",
   "execution_count": 25,
   "id": "dccf3510",
   "metadata": {},
   "outputs": [
    {
     "name": "stdout",
     "output_type": "stream",
     "text": [
      "         zip      type state                                   county country  \\\n",
      "0      00544    UNIQUE    NY                           Suffolk County      US   \n",
      "1      00501    UNIQUE    NY                           Suffolk County      US   \n",
      "2      00601  STANDARD    PR                       Adjuntas Municipio      US   \n",
      "3      00602  STANDARD    PR                         Aguada Municipio      US   \n",
      "4      00603  STANDARD    PR                      Aguadilla Municipio      US   \n",
      "...      ...       ...   ...                                      ...     ...   \n",
      "42719  99926    PO BOX    AK  Prince of Wales-Outer Ketchikan Borough      US   \n",
      "42720  99927    PO BOX    AK        Prince of Wales-Hyder Census Area      US   \n",
      "42721  99928    PO BOX    AK                Ketchikan Gateway Borough      US   \n",
      "42722  99929    PO BOX    AK                Wrangell City and Borough      US   \n",
      "42723  99950    PO BOX    AK  Prince of Wales-Outer Ketchikan Borough      US   \n",
      "\n",
      "      latitude longitude irs_estimated_population  \n",
      "0        40.81    -73.04                        0  \n",
      "1        40.81    -73.04                      562  \n",
      "2        18.16    -66.72                        0  \n",
      "3        18.38    -67.18                        0  \n",
      "4        18.43    -67.15                        0  \n",
      "...        ...       ...                      ...  \n",
      "42719    55.14   -131.49                     1140  \n",
      "42720     56.3   -133.57                       48  \n",
      "42721    55.45   -131.79                     1530  \n",
      "42722    56.41   -131.61                     2145  \n",
      "42723    55.34   -131.64                      262  \n",
      "\n",
      "[42724 rows x 8 columns]\n"
     ]
    }
   ],
   "source": [
    "df=pd.read_csv('Zip_Code1.csv', dtype='string');\n",
    "df.drop(columns =['decommissioned','primary_city','acceptable_cities','unacceptable_cities','timezone','area_codes','world_region'], inplace=True)\n",
    "print(df);"
   ]
  },
  {
   "cell_type": "code",
   "execution_count": 15,
   "id": "da808a26",
   "metadata": {},
   "outputs": [
    {
     "data": {
      "text/plain": [
       "str"
      ]
     },
     "execution_count": 15,
     "metadata": {},
     "output_type": "execute_result"
    }
   ],
   "source": [
    "type(df['zip'][0])"
   ]
  },
  {
   "cell_type": "code",
   "execution_count": 19,
   "id": "6748f680",
   "metadata": {},
   "outputs": [],
   "source": [
    "import csv"
   ]
  },
  {
   "cell_type": "code",
   "execution_count": 20,
   "id": "38b65336",
   "metadata": {},
   "outputs": [],
   "source": [
    "df.to_csv('zip_code_string.csv')"
   ]
  },
  {
   "cell_type": "code",
   "execution_count": 26,
   "id": "ff166db1",
   "metadata": {},
   "outputs": [],
   "source": [
    "df.to_csv('zip_code_final.csv',sep=\"|\",quotechar='\"',index=False,\n",
    "            quoting=csv.QUOTE_ALL)"
   ]
  },
  {
   "cell_type": "code",
   "execution_count": null,
   "id": "a115c1fb",
   "metadata": {},
   "outputs": [],
   "source": []
  }
 ],
 "metadata": {
  "kernelspec": {
   "display_name": "Python 3",
   "language": "python",
   "name": "python3"
  },
  "language_info": {
   "codemirror_mode": {
    "name": "ipython",
    "version": 3
   },
   "file_extension": ".py",
   "mimetype": "text/x-python",
   "name": "python",
   "nbconvert_exporter": "python",
   "pygments_lexer": "ipython3",
   "version": "3.8.8"
  }
 },
 "nbformat": 4,
 "nbformat_minor": 5
}
